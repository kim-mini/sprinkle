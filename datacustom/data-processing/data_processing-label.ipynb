{
 "cells": [
  {
   "cell_type": "markdown",
   "metadata": {},
   "source": [
    "# make label "
   ]
  },
  {
   "cell_type": "code",
   "execution_count": 21,
   "metadata": {},
   "outputs": [
    {
     "name": "stdout",
     "output_type": "stream",
     "text": [
      "None\n",
      "None\n",
      "None\n",
      "2023년 6월 1일, time time time\n"
     ]
    }
   ],
   "source": [
    "import random\n",
    "\n",
    "a = ['2020년', '2021년', '2022년', '2023년']\n",
    "b = ['6월', '7월', '8월', '9월', '10월']\n",
    "c = ['1일', '2일', '3일', '4일', '5일']\n",
    "\n",
    "i = random.randint(0,len(a)-1)\n",
    "j = random.randint(0,len(b)-1)\n",
    "k = random.randint(0,len(c)-1)\n",
    "\n",
    "list_1 = [a[i], b[j], c[k]]\n",
    "list_time = []\n",
    " \n",
    "for q in list_1:\n",
    "    if q in a:\n",
    "        list_time.append('time')\n",
    "        \n",
    "    elif q in b:\n",
    "        list_time.append('time')\n",
    "\n",
    "    elif q in c:\n",
    "        list_time.append('time')"
   ]
  },
  {
   "cell_type": "code",
   "execution_count": 22,
   "metadata": {},
   "outputs": [
    {
     "name": "stdout",
     "output_type": "stream",
     "text": [
      "2023년 6월 1일, B-time I-time E-time\n"
     ]
    }
   ],
   "source": [
    "label = 'E-'\n",
    "label_temp = []\n",
    "\n",
    "while len(list_time):\n",
    "    z = list_time.pop()\n",
    "    if len(list_time) == 0:\n",
    "        if label == 'I-':\n",
    "            label = 'B-'\n",
    "        else:\n",
    "            label == 'S-'\n",
    "\n",
    "    z = label+z\n",
    "    label_temp.insert(0,z)\n",
    "    if label == 'E-':\n",
    "        label = 'I-'\n",
    "        \n",
    "str_temp = ' '.join(list_1)+', ' + \" \".join(label_temp)\n",
    "print(str_temp)"
   ]
  },
  {
   "cell_type": "code",
   "execution_count": null,
   "metadata": {},
   "outputs": [],
   "source": []
  }
 ],
 "metadata": {
  "kernelspec": {
   "display_name": "Python 3",
   "language": "python",
   "name": "python3"
  },
  "language_info": {
   "codemirror_mode": {
    "name": "ipython",
    "version": 3
   },
   "file_extension": ".py",
   "mimetype": "text/x-python",
   "name": "python",
   "nbconvert_exporter": "python",
   "pygments_lexer": "ipython3",
   "version": "3.7.9"
  },
  "toc": {
   "base_numbering": 1,
   "nav_menu": {},
   "number_sections": true,
   "sideBar": true,
   "skip_h1_title": false,
   "title_cell": "Table of Contents",
   "title_sidebar": "Contents",
   "toc_cell": false,
   "toc_position": {},
   "toc_section_display": true,
   "toc_window_display": false
  }
 },
 "nbformat": 4,
 "nbformat_minor": 4
}
