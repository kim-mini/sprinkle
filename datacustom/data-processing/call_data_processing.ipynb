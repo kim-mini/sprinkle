{
 "cells": [
  {
   "cell_type": "code",
   "execution_count": 2,
   "metadata": {},
   "outputs": [],
   "source": [
    "from soynlp.hangle import compose, decompose"
   ]
  },
  {
   "cell_type": "code",
   "execution_count": 3,
   "metadata": {},
   "outputs": [],
   "source": [
    "def conjugate(stem, ending):\n",
    "\n",
    "    assert ending # ending must be inserted\n",
    "\n",
    "    l_len = len(stem)\n",
    "    l_last = decompose(stem[-1])\n",
    "    l_last_ = stem[-1]\n",
    "    r_first = decompose(ending[0])\n",
    "    r_first_ = compose(r_first[0], r_first[1], ' ') if r_first[1] != ' ' else ending[0]\n",
    "\n",
    "    candidates = set()\n",
    "    \n",
    "    # ㄷ 불규칙 활용: 깨달 + 아 -> 깨달아\n",
    "    if l_last[2] == 'ㄷ' and r_first[0] == 'ㅇ':\n",
    "        l = stem[:-1] + compose(l_last[0], l_last[1], 'ㄹ')\n",
    "        candidates.add(l + ending)\n",
    "\n",
    "    # 르 불규칙 활용: 구르 + 어 -> 굴러\n",
    "    if (l_last_ == '르') and (r_first_ == '아' or r_first_ == '어') and l_len >= 2:\n",
    "        c0, c1, c2 = decompose(stem[-2])\n",
    "        l = stem[:-2] + compose(c0, c1, 'ㄹ')\n",
    "        r = compose('ㄹ', r_first[1], r_first[2]) + ending[1:]\n",
    "        candidates.add(l + r)\n",
    "\n",
    "    # ㅂ 불규칙 활용:\n",
    "    # (모음조화) 더럽 + 어 -> 더러워 / 곱 + 아 -> 고와 \n",
    "    # (모음조화가 깨진 경우) 아름답 + 아 -> 아름다워 / (-답, -꼽, -깝, -롭)\n",
    "    if (l_last[2] == 'ㅂ') and (r_first_ == '어' or r_first_ == '아'):\n",
    "        l = stem[:-1] + compose(l_last[0], l_last[1], ' ')\n",
    "        if l_len >= 2 and (l_last_ == '답' or l_last_ == '곱' or l_last_ == '깝' or l_last_ == '롭'):\n",
    "            c1 = 'ㅝ'\n",
    "        elif r_first[1] == 'ㅗ':\n",
    "            c1 = 'ㅘ'\n",
    "        elif r_first[1] == 'ㅜ':\n",
    "            c1 = 'ㅝ'\n",
    "        elif r_first_ == '어':\n",
    "            c1 = 'ㅝ'\n",
    "        else: # r_first_ == '아'\n",
    "            c1 = 'ㅘ'\n",
    "        r = compose('ㅇ', c1, r_first[2]) + ending[1:]\n",
    "        candidates.add(l + r)\n",
    "\n",
    "    # 어미의 첫글자가 종성일 경우 (-ㄴ, -ㄹ, -ㅂ, -ㅆ)\n",
    "    # 이 + ㅂ니다 -> 입니다\n",
    "    if l_last[2] == ' ' and r_first[1] == ' ' and (r_first[0] == 'ㄴ' or r_first[0] == 'ㄹ' or r_first[0] == 'ㅂ' or r_first[0] == 'ㅆ'):\n",
    "        l = stem[:-1] + compose(l_last[0], l_last[1], r_first[0])\n",
    "        r = ending[1:]\n",
    "        candidates.add(l + r)\n",
    "\n",
    "    # ㅅ 불규칙 활용: 붓 + 어 -> 부어\n",
    "    # exception : 벗 + 어 -> 벗어    \n",
    "    if (l_last[2] == 'ㅅ') and (r_first[0] == 'ㅇ'):\n",
    "        if stem[-1] == '벗':\n",
    "            l = stem\n",
    "        else:\n",
    "            l = stem[:-1] + compose(l_last[0], l_last[1], ' ')\n",
    "        candidates.add(l + ending)\n",
    "\n",
    "    # 우 불규칙 활용: 푸 + 어 -> 퍼 / 주 + 어 -> 줘\n",
    "    if l_last[1] == 'ㅜ' and l_last[2] == ' ' and r_first[0] == 'ㅇ' and r_first[1] == 'ㅓ':\n",
    "        if l_last_ == '푸':\n",
    "            l = '퍼'\n",
    "        else:\n",
    "            l = stem[:-1] + compose(l_last[0], 'ㅝ', r_first[2])\n",
    "        r = ending[1:]\n",
    "        candidates.add(l + r)\n",
    "\n",
    "    # 오 활용: 오 + 았어 -> 왔어\n",
    "    if l_last[1] == 'ㅗ' and l_last[2] == ' ' and r_first[0] == 'ㅇ' and r_first[1] == 'ㅏ':\n",
    "        l = stem[:-1] + compose(l_last[0], 'ㅘ', r_first[2])\n",
    "        r = ending[1:]\n",
    "        candidates.add(l + r)\n",
    "\n",
    "    # ㅡ 탈락 불규칙 활용: 끄 + 어 -> 꺼 / 트 + 었다 -> 텄다\n",
    "    if (l_last_ == '끄' or l_last_ == '크' or l_last_ == '트') and (r_first[0] == 'ㅇ') and (r_first[1] == 'ㅓ'):\n",
    "        l = stem[:-1] + compose(l_last[0], r_first[1], r_first[2])\n",
    "        r = ending[1:]\n",
    "        candidates.add(l + r)\n",
    "\n",
    "    # 거라, 너라 불규칙 활용\n",
    "    # '-거라/-너라'를 어미로 취급하면 규칙 활용\n",
    "    if ending[:2] == '어라' or ending[:2] == '아라':\n",
    "        if l_last[1] == 'ㅏ':            \n",
    "            r = '거' + ending[1:]\n",
    "        elif l_last[1] == 'ㅗ':\n",
    "            r = '너' + ending[1:]\n",
    "        else:\n",
    "            r = ending\n",
    "        candidates.add(stem + r)\n",
    "\n",
    "    # 러 불규칙 활용: 이르 + 어 -> 이르러 / 이르 + 었다 -> 이르렀다\n",
    "    if l_last_ == '르' and r_first[0] == 'ㅇ' and r_first[1] == 'ㅓ':\n",
    "        r = compose('ㄹ', r_first[1], r_first[2]) + ending[1:]\n",
    "        candidates.add(stem + r)\n",
    "\n",
    "    # 여 불규칙 활용\n",
    "    # 하 + 았다 -> 하였다 / 하 + 었다 -> 하였다\n",
    "    if l_last_ == '하' and r_first[0] == 'ㅇ' and (r_first[1] == 'ㅏ' or r_first[1] == 'ㅓ'):\n",
    "        r = compose(r_first[0], 'ㅕ', r_first[2]) + ending[1:]\n",
    "        candidates.add(stem + r)\n",
    "\n",
    "    # ㅎ (탈락) 불규칙 활용\n",
    "    # 파라 + 면 -> 파랗다 / 동그랗 + ㄴ -> 동그란\n",
    "    if l_last[2] == 'ㅎ' and l_last_ != '좋' and not (r_first[1] == 'ㅏ' or r_first[1] == 'ㅓ'):\n",
    "        if r_first[1] == ' ':\n",
    "            l = l = stem[:-1] + compose(l_last[0], l_last[1], r_first[0])\n",
    "        else:\n",
    "            l = stem[:-1] + compose(l_last[0], l_last[1], ' ')\n",
    "        if r_first_ == '으':\n",
    "            r = ending[1:]\n",
    "        elif r_first[1] == ' ':            \n",
    "            r = ''\n",
    "        else:\n",
    "            r = ending\n",
    "        candidates.add(l + r)\n",
    "\n",
    "    # ㅎ (축약) 불규칙 할용\n",
    "    # 파랗 + 았다 -> 파랬다 / 시퍼렇 + 었다 -> 시퍼렜다\n",
    "    if l_last[2] == 'ㅎ' and l_last_ != '좋' and (r_first[1] == 'ㅏ' or r_first[1] == 'ㅓ'):\n",
    "        l = stem[:-1] + compose(l_last[0], 'ㅐ' if r_first[1] == 'ㅏ' else 'ㅔ', r_first[2])\n",
    "        r = ending[1:]\n",
    "        candidates.add(l + r)\n",
    "\n",
    "    # ㅎ + 네 불규칙 활용\n",
    "    # ㅎ 탈락과 ㅎ 유지 모두 맞음\n",
    "    if l_last[2] == 'ㅎ' and r_first[0] == 'ㄴ' and r_first[1] != ' ':\n",
    "        candidates.add(stem + ending)\n",
    "\n",
    "    if not candidates and r_first[1] != ' ':\n",
    "        candidates.add(stem + ending)\n",
    "\n",
    "    return candidates"
   ]
  },
  {
   "cell_type": "code",
   "execution_count": 4,
   "metadata": {},
   "outputs": [],
   "source": [
    "from konlpy.tag import Mecab"
   ]
  },
  {
   "cell_type": "code",
   "execution_count": 5,
   "metadata": {},
   "outputs": [
    {
     "name": "stdout",
     "output_type": "stream",
     "text": [
      "[('설정', 'NNG'), ('해', 'XSV+EC'), ('줘', 'VX+EC')]\n"
     ]
    }
   ],
   "source": [
    "mecab = Mecab()\n",
    "print(mecab.pos(u'설정해줘'))"
   ]
  },
  {
   "cell_type": "markdown",
   "metadata": {},
   "source": [
    "# 전화 / 통화"
   ]
  },
  {
   "cell_type": "code",
   "execution_count": 6,
   "metadata": {},
   "outputs": [],
   "source": [
    "# 주어\n",
    "subject = ['김민이', '이경원', '박세훈', '이천우', '설아', '제니', '소담', '다솜', '가이', '이규빈', '하그리',\\\n",
    "           '송보담', '가브리엘', '수빈']\n",
    "# 조사\n",
    "pos = ['에게', '한테']\n",
    "# 부사\n",
    "Adverb = ['혹시', '빨리', '지금', '그런데', '당장', '어서']"
   ]
  },
  {
   "cell_type": "code",
   "execution_count": 76,
   "metadata": {
    "scrolled": true
   },
   "outputs": [],
   "source": [
    "# 01 test1 + test2\n",
    "ending1 = ['주겠니', '볼까', '주자', '봐', 'ㅆ어', '줘','ㅆ다', '라', '줄 수 있어','줄 수 있느냐', '줄 수 있냐',\\\n",
    "         '줄 수 있으십니까','주실 수 있으십니까', '주실 수 있나요', '줄래', '쥬','다오',\\\n",
    "         '주세요', 'ㅆ냐', '달라고 했지','ㅆ니', '봐다오', 'ㅆ느냐', '볼래', 'ㅆ냐고', '주시겠습니까','ㅆ나',\\\n",
    "        'ㅆ을까', '줄래요', '주련', '줘봐', '봐줘', '주라', '봐주라', '봐봐', '보자', '봐보자', '봅시다', '보자고', '야 겠어']\n",
    "\n",
    "# 나중에 부탁해, 걸자 append\n",
    "# 뿌셔.....\n",
    "# 어미가 달라질 수 있는 것들 / 앞에 명사가 없으면 안되는 것들\n",
    "stem1 = ['해', '때려', '쳐', '뿌셔', '쌔려', '세려', '보내', '남겨', '넣어', '놓아','놔']\n",
    "\n",
    "# 어미가 달라질 수 있는 것들 / 앞에 명가사 없어도 되는 것들\n",
    "stem3 = ['걸어', '연결해', '발신해','송신해', '교신해']\n",
    "\n",
    "# 02 only test4 명사\n",
    "object_w = ['전화', '연락', '통화', '무전']\n",
    "\n",
    "list1 = []\n",
    "for i in stem1:\n",
    "    for j in ending1:\n",
    "        word = list(conjugate(i,j))\n",
    "        list1.extend(word)\n",
    "        \n",
    "list2 = []     \n",
    "for i in stem3:\n",
    "    for j in ending1:\n",
    "        word = list(conjugate(i,j))\n",
    "        list2.extend(word)\n",
    "# for stem, eomi in testset:\n",
    "#     print('{} + {} -> {}'.format(stem, eomi, conjugate(stem, eomi)))"
   ]
  },
  {
   "cell_type": "code",
   "execution_count": 77,
   "metadata": {},
   "outputs": [],
   "source": [
    "# 거자 -> 걸자 \n",
    "# 거고싶어 -> 걸고싶어\n",
    "ending2 = ['ㄹ까','ㅂ시다', '는거 어때', '자', '고 싶어', '냐', '니', 'ㅁ']\n",
    "stem2 = ['보내', '하', '치', '뿌시', '쌔리', '세리', '보내', '남기', '넣으', '놓으']\n",
    "\n",
    "stem4 = ['거', '연결하', '발신하', '송신하','교신하']\n",
    "\n",
    "for i in stem2:\n",
    "    for j in ending2:\n",
    "        word2 = list(conjugate(i,j))\n",
    "        list1.extend(word2)\n",
    "           \n",
    "for i in stem4:\n",
    "    for j in ending2:\n",
    "        word = list(conjugate(i,j))\n",
    "        list2.extend(word)        "
   ]
  },
  {
   "cell_type": "code",
   "execution_count": 78,
   "metadata": {},
   "outputs": [
    {
     "name": "stdout",
     "output_type": "stream",
     "text": [
      "['해주겠니', '해볼까', '해주자', '해봐', '했어', '해줘', '했다', '해라', '해줄 수 있어', '해줄 수 있느냐', '해줄 수 있냐', '해줄 수 있으십니까', '해주실 수 있으십니까', '해주실 수 있나요', '해줄래', '해쥬', '해다오', '해주세요', '했냐', '해달라고 했지', '했니', '해봐다오', '했느냐', '해볼래', '했냐고', '해주시겠습니까', '했나', '했을까', '해줄래요', '해주련', '해줘봐', '해봐줘', '해주라', '해봐주라', '해봐봐', '해보자', '해봐보자', '해봅시다', '해보자고', '해야 겠어', '때려주겠니', '때려볼까', '때려주자', '때려봐', '때렸어', '때려줘', '때렸다', '때려라', '때려줄 수 있어', '때려줄 수 있느냐', '때려줄 수 있냐', '때려줄 수 있으십니까', '때려주실 수 있으십니까', '때려주실 수 있나요', '때려줄래', '때려쥬', '때려다오', '때려주세요', '때렸냐', '때려달라고 했지', '때렸니', '때려봐다오', '때렸느냐', '때려볼래', '때렸냐고', '때려주시겠습니까', '때렸나', '때렸을까', '때려줄래요', '때려주련', '때려줘봐', '때려봐줘', '때려주라', '때려봐주라', '때려봐봐', '때려보자', '때려봐보자', '때려봅시다', '때려보자고', '때려야 겠어', '쳐주겠니', '쳐볼까', '쳐주자', '쳐봐', '쳤어', '쳐줘', '쳤다', '쳐라', '쳐줄 수 있어', '쳐줄 수 있느냐', '쳐줄 수 있냐', '쳐줄 수 있으십니까', '쳐주실 수 있으십니까', '쳐주실 수 있나요', '쳐줄래', '쳐쥬', '쳐다오', '쳐주세요', '쳤냐', '쳐달라고 했지', '쳤니', '쳐봐다오', '쳤느냐', '쳐볼래', '쳤냐고', '쳐주시겠습니까', '쳤나', '쳤을까', '쳐줄래요', '쳐주련', '쳐줘봐', '쳐봐줘', '쳐주라', '쳐봐주라', '쳐봐봐', '쳐보자', '쳐봐보자', '쳐봅시다', '쳐보자고', '쳐야 겠어', '뿌셔주겠니', '뿌셔볼까', '뿌셔주자', '뿌셔봐', '뿌셨어', '뿌셔줘', '뿌셨다', '뿌셔라', '뿌셔줄 수 있어', '뿌셔줄 수 있느냐', '뿌셔줄 수 있냐', '뿌셔줄 수 있으십니까', '뿌셔주실 수 있으십니까', '뿌셔주실 수 있나요', '뿌셔줄래', '뿌셔쥬', '뿌셔다오', '뿌셔주세요', '뿌셨냐', '뿌셔달라고 했지', '뿌셨니', '뿌셔봐다오', '뿌셨느냐', '뿌셔볼래', '뿌셨냐고', '뿌셔주시겠습니까', '뿌셨나', '뿌셨을까', '뿌셔줄래요', '뿌셔주련', '뿌셔줘봐', '뿌셔봐줘', '뿌셔주라', '뿌셔봐주라', '뿌셔봐봐', '뿌셔보자', '뿌셔봐보자', '뿌셔봅시다', '뿌셔보자고', '뿌셔야 겠어', '쌔려주겠니', '쌔려볼까', '쌔려주자', '쌔려봐', '쌔렸어', '쌔려줘', '쌔렸다', '쌔려라', '쌔려줄 수 있어', '쌔려줄 수 있느냐', '쌔려줄 수 있냐', '쌔려줄 수 있으십니까', '쌔려주실 수 있으십니까', '쌔려주실 수 있나요', '쌔려줄래', '쌔려쥬', '쌔려다오', '쌔려주세요', '쌔렸냐', '쌔려달라고 했지', '쌔렸니', '쌔려봐다오', '쌔렸느냐', '쌔려볼래', '쌔렸냐고', '쌔려주시겠습니까', '쌔렸나', '쌔렸을까', '쌔려줄래요', '쌔려주련', '쌔려줘봐', '쌔려봐줘', '쌔려주라', '쌔려봐주라', '쌔려봐봐', '쌔려보자', '쌔려봐보자', '쌔려봅시다', '쌔려보자고', '쌔려야 겠어', '세려주겠니', '세려볼까', '세려주자', '세려봐', '세렸어', '세려줘', '세렸다', '세려라', '세려줄 수 있어', '세려줄 수 있느냐', '세려줄 수 있냐', '세려줄 수 있으십니까', '세려주실 수 있으십니까', '세려주실 수 있나요', '세려줄래', '세려쥬', '세려다오', '세려주세요', '세렸냐', '세려달라고 했지', '세렸니', '세려봐다오', '세렸느냐', '세려볼래', '세렸냐고', '세려주시겠습니까', '세렸나', '세렸을까', '세려줄래요', '세려주련', '세려줘봐', '세려봐줘', '세려주라', '세려봐주라', '세려봐봐', '세려보자', '세려봐보자', '세려봅시다', '세려보자고', '세려야 겠어', '보내주겠니', '보내볼까', '보내주자', '보내봐', '보냈어', '보내줘', '보냈다', '보내라', '보내줄 수 있어', '보내줄 수 있느냐', '보내줄 수 있냐', '보내줄 수 있으십니까', '보내주실 수 있으십니까', '보내주실 수 있나요', '보내줄래', '보내쥬', '보내다오', '보내주세요', '보냈냐', '보내달라고 했지', '보냈니', '보내봐다오', '보냈느냐', '보내볼래', '보냈냐고', '보내주시겠습니까', '보냈나', '보냈을까', '보내줄래요', '보내주련', '보내줘봐', '보내봐줘', '보내주라', '보내봐주라', '보내봐봐', '보내보자', '보내봐보자', '보내봅시다', '보내보자고', '보내야 겠어', '남겨주겠니', '남겨볼까', '남겨주자', '남겨봐', '남겼어', '남겨줘', '남겼다', '남겨라', '남겨줄 수 있어', '남겨줄 수 있느냐', '남겨줄 수 있냐', '남겨줄 수 있으십니까', '남겨주실 수 있으십니까', '남겨주실 수 있나요', '남겨줄래', '남겨쥬', '남겨다오', '남겨주세요', '남겼냐', '남겨달라고 했지', '남겼니', '남겨봐다오', '남겼느냐', '남겨볼래', '남겼냐고', '남겨주시겠습니까', '남겼나', '남겼을까', '남겨줄래요', '남겨주련', '남겨줘봐', '남겨봐줘', '남겨주라', '남겨봐주라', '남겨봐봐', '남겨보자', '남겨봐보자', '남겨봅시다', '남겨보자고', '남겨야 겠어', '넣어주겠니', '넣어볼까', '넣어주자', '넣어봐', '넣었어', '넣어줘', '넣었다', '넣어라', '넣어줄 수 있어', '넣어줄 수 있느냐', '넣어줄 수 있냐', '넣어줄 수 있으십니까', '넣어주실 수 있으십니까', '넣어주실 수 있나요', '넣어줄래', '넣어쥬', '넣어다오', '넣어주세요', '넣었냐', '넣어달라고 했지', '넣었니', '넣어봐다오', '넣었느냐', '넣어볼래', '넣었냐고', '넣어주시겠습니까', '넣었나', '넣었을까', '넣어줄래요', '넣어주련', '넣어줘봐', '넣어봐줘', '넣어주라', '넣어봐주라', '넣어봐봐', '넣어보자', '넣어봐보자', '넣어봅시다', '넣어보자고', '넣어야 겠어', '놓아주겠니', '놓아볼까', '놓아주자', '놓아봐', '놓았어', '놓아줘', '놓았다', '놓아라', '놓아줄 수 있어', '놓아줄 수 있느냐', '놓아줄 수 있냐', '놓아줄 수 있으십니까', '놓아주실 수 있으십니까', '놓아주실 수 있나요', '놓아줄래', '놓아쥬', '놓아다오', '놓아주세요', '놓았냐', '놓아달라고 했지', '놓았니', '놓아봐다오', '놓았느냐', '놓아볼래', '놓았냐고', '놓아주시겠습니까', '놓았나', '놓았을까', '놓아줄래요', '놓아주련', '놓아줘봐', '놓아봐줘', '놓아주라', '놓아봐주라', '놓아봐봐', '놓아보자', '놓아봐보자', '놓아봅시다', '놓아보자고', '놓아야 겠어', '놔주겠니', '놔볼까', '놔주자', '놔봐', '놨어', '놔줘', '놨다', '놔라', '놔줄 수 있어', '놔줄 수 있느냐', '놔줄 수 있냐', '놔줄 수 있으십니까', '놔주실 수 있으십니까', '놔주실 수 있나요', '놔줄래', '놔쥬', '놔다오', '놔주세요', '놨냐', '놔달라고 했지', '놨니', '놔봐다오', '놨느냐', '놔볼래', '놨냐고', '놔주시겠습니까', '놨나', '놨을까', '놔줄래요', '놔주련', '놔줘봐', '놔봐줘', '놔주라', '놔봐주라', '놔봐봐', '놔보자', '놔봐보자', '놔봅시다', '놔보자고', '놔야 겠어', '보낼까', '보냅시다', '보내는거 어때', '보내자', '보내고 싶어', '보내냐', '보내니', '할까', '합시다', '하는거 어때', '하자', '하고 싶어', '하냐', '하니', '칠까', '칩시다', '치는거 어때', '치자', '치고 싶어', '치냐', '치니', '뿌실까', '뿌십시다', '뿌시는거 어때', '뿌시자', '뿌시고 싶어', '뿌시냐', '뿌시니', '쌔릴까', '쌔립시다', '쌔리는거 어때', '쌔리자', '쌔리고 싶어', '쌔리냐', '쌔리니', '세릴까', '세립시다', '세리는거 어때', '세리자', '세리고 싶어', '세리냐', '세리니', '보낼까', '보냅시다', '보내는거 어때', '보내자', '보내고 싶어', '보내냐', '보내니', '남길까', '남깁시다', '남기는거 어때', '남기자', '남기고 싶어', '남기냐', '남기니', '넣을까', '넣읍시다', '넣으는거 어때', '넣으자', '넣으고 싶어', '넣으냐', '넣으니', '놓을까', '놓읍시다', '놓으는거 어때', '놓으자', '놓으고 싶어', '놓으냐', '놓으니']\n"
     ]
    }
   ],
   "source": [
    "print(list1)"
   ]
  },
  {
   "cell_type": "markdown",
   "metadata": {},
   "source": [
    "① 주어 + 서술어\n",
    "\n",
    "② 주어 + 부사어 + 서술어\n",
    "\n",
    "③ 주어 + 목적어 + 서술어\n",
    "\n",
    "④ 주어 + 보어 + 서술어\n",
    "\n",
    "⑤ 주어 + 목적어 + 부사어 + 서술어"
   ]
  },
  {
   "cell_type": "code",
   "execution_count": 98,
   "metadata": {},
   "outputs": [
    {
     "name": "stdout",
     "output_type": "stream",
     "text": [
      "4\n",
      "4\n",
      "그런데 이경원 전화\n",
      "어서 통화 송보담\n",
      "지금 무전 제니한테\n",
      "혹시 연락 이규빈한테\n"
     ]
    }
   ],
   "source": [
    "import random\n",
    "\n",
    "file_name = './01_a+s+obj.csv'\n",
    "\n",
    "# list1 = 640\n",
    "# 주어 + 서술어\n",
    "result = []  \n",
    "\n",
    "def make_sentence(target):\n",
    "    ref = True\n",
    "    \n",
    "    shuf_list = [subject, object_w, pos, stem3, Adverb, list1, list2]\n",
    "    for no_shuf in shuf_list:\n",
    "        if no_shuf[0] == target[0]:\n",
    "            pass\n",
    "        else:\n",
    "            random.shuffle(no_shuf)\n",
    "            \n",
    "    for i in range(len(target)):\n",
    "        ref = not(ref)\n",
    "        if ref:\n",
    "            # 부사 있고 없고\n",
    "            test_list = [subject[i%len(subject)]+pos[i%len(pos)], target[i]]\n",
    "#             test_list = [subject[i%len(subject)], target[i]]\n",
    "            \n",
    "            # 명사 있는데 + 부사 있고\n",
    "#             test_list = [subject[i%len(subject)]+pos[i%len(pos)], object_w[i%len(object_w)]+ target[i]]\n",
    "\n",
    "        else:\n",
    "            # 명사 있는데 + 부사 없고\n",
    "#             test_list = [subject[i%len(subject)], object_w[i%len(object_w)]+ target[i]]\n",
    "            test_list = [subject[i%len(subject)], target[i]]\n",
    "#             test_list = [target[i], subject[i%len(subject)]]\n",
    "\n",
    "        random.shuffle(test_list)\n",
    "        # 부사\n",
    "        test_list.insert(0,Adverb[i%len(Adverb)])\n",
    "        result.append(' '.join(test_list))\n",
    "    \n",
    "    \n",
    "# subject : 사람 이름\n",
    "# object_w : 전화, 연결\n",
    "# stem3 : 전화해, 연결해\n",
    "# pos : 에게, 한테\n",
    "# Adverb : 빨리, 지금\n",
    "# list1 : 쳐봐, 때려봐 // 앞에 명사가 없으면 안되는\n",
    "# list2 : 걸어볼까, 연결해봐 // 앞에 명사가 없어도 되는\n",
    " \n",
    "        \n",
    "make_sentence(object_w)\n",
    "# 중복을 막기위해\n",
    "print(len(result))\n",
    "result = set(result)\n",
    "result = list(result)\n",
    "print(len(result))\n",
    "for i in range(len(result)):\n",
    "    print(result[i])\n",
    "    with open(file_name, 'a') as f:\n",
    "        f.write(result[i]+'\\n')"
   ]
  },
  {
   "cell_type": "code",
   "execution_count": 57,
   "metadata": {},
   "outputs": [],
   "source": [
    "def make_sentence(target):\n",
    "    #if shuffle_switch:\n",
    "    shuf_list = [a,b]\n",
    "    for no_shuf in shuf_list:\n",
    "        if no_shuf[0] == target[0]:\n",
    "            pass\n",
    "        else:\n",
    "            print(f'{no_shuf}')\n",
    "            random.shuffle(no_shuf)\n",
    "            \n"
   ]
  },
  {
   "cell_type": "code",
   "execution_count": 58,
   "metadata": {},
   "outputs": [
    {
     "name": "stdout",
     "output_type": "stream",
     "text": [
      "[4, 5, 6]\n"
     ]
    }
   ],
   "source": [
    "a = [1,2,3]\n",
    "b = [4,5,6]\n",
    "\n",
    "\n",
    "make_sentence(a)"
   ]
  },
  {
   "cell_type": "code",
   "execution_count": null,
   "metadata": {},
   "outputs": [],
   "source": []
  }
 ],
 "metadata": {
  "kernelspec": {
   "display_name": "Python 3",
   "language": "python",
   "name": "python3"
  },
  "language_info": {
   "codemirror_mode": {
    "name": "ipython",
    "version": 3
   },
   "file_extension": ".py",
   "mimetype": "text/x-python",
   "name": "python",
   "nbconvert_exporter": "python",
   "pygments_lexer": "ipython3",
   "version": "3.7.9"
  },
  "toc": {
   "base_numbering": 1,
   "nav_menu": {},
   "number_sections": true,
   "sideBar": true,
   "skip_h1_title": false,
   "title_cell": "Table of Contents",
   "title_sidebar": "Contents",
   "toc_cell": false,
   "toc_position": {},
   "toc_section_display": true,
   "toc_window_display": false
  }
 },
 "nbformat": 4,
 "nbformat_minor": 4
}
